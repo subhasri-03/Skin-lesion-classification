{
 "cells": [
  {
   "cell_type": "code",
   "execution_count": 1,
   "id": "c57442a6",
   "metadata": {},
   "outputs": [],
   "source": [
    "import os\n",
    "import numpy as np\n",
    "import pandas as pd\n",
    "import tensorflow as tf\n",
    "from sklearn.model_selection import train_test_split\n",
    "from sklearn.preprocessing import LabelEncoder\n",
    "from sklearn.utils import class_weight\n",
    "from tensorflow.keras.preprocessing.image import ImageDataGenerator\n",
    "from tensorflow.keras.applications import ResNet50\n",
    "from tensorflow.keras.layers import GlobalAveragePooling2D, Dropout, Dense\n",
    "from tensorflow.keras.models import Model\n",
    "from tensorflow.keras.optimizers import Adam"
   ]
  },
  {
   "cell_type": "code",
   "execution_count": 2,
   "id": "b34c7dca",
   "metadata": {},
   "outputs": [],
   "source": [
    "# === CONFIG ===\n",
    "IMG_SIZE = 224\n",
    "BATCH_SIZE = 32\n",
    "DATA_DIR = \"C:\\Skin Classification\\HAM10000_images\"\n",
    "CSV_PATH = \"C:\\Skin Classification\\HAM10000_images\\HAM10000_metadata.csv\""
   ]
  },
  {
   "cell_type": "code",
   "execution_count": 3,
   "id": "2142e799",
   "metadata": {},
   "outputs": [],
   "source": [
    "# === LOAD DATA ===\n",
    "df = pd.read_csv(CSV_PATH)\n",
    "df['image_id'] = df['image_id'] + \".jpg\"\n",
    "df['path'] = df['image_id'].apply(lambda x: os.path.join(DATA_DIR, x))\n",
    "\n",
    "le = LabelEncoder()\n",
    "df['label'] = le.fit_transform(df['dx'])\n",
    "num_classes = len(le.classes_)\n",
    "\n",
    "train_df, val_df = train_test_split(df, test_size=0.2, stratify=df['label'], random_state=42)"
   ]
  },
  {
   "cell_type": "code",
   "execution_count": 4,
   "id": "15817404",
   "metadata": {},
   "outputs": [
    {
     "data": {
      "text/html": [
       "<div>\n",
       "<style scoped>\n",
       "    .dataframe tbody tr th:only-of-type {\n",
       "        vertical-align: middle;\n",
       "    }\n",
       "\n",
       "    .dataframe tbody tr th {\n",
       "        vertical-align: top;\n",
       "    }\n",
       "\n",
       "    .dataframe thead th {\n",
       "        text-align: right;\n",
       "    }\n",
       "</style>\n",
       "<table border=\"1\" class=\"dataframe\">\n",
       "  <thead>\n",
       "    <tr style=\"text-align: right;\">\n",
       "      <th></th>\n",
       "      <th>lesion_id</th>\n",
       "      <th>image_id</th>\n",
       "      <th>dx</th>\n",
       "      <th>dx_type</th>\n",
       "      <th>age</th>\n",
       "      <th>sex</th>\n",
       "      <th>localization</th>\n",
       "      <th>path</th>\n",
       "      <th>label</th>\n",
       "    </tr>\n",
       "  </thead>\n",
       "  <tbody>\n",
       "    <tr>\n",
       "      <th>0</th>\n",
       "      <td>HAM_0000118</td>\n",
       "      <td>ISIC_0027419.jpg</td>\n",
       "      <td>bkl</td>\n",
       "      <td>histo</td>\n",
       "      <td>80.0</td>\n",
       "      <td>male</td>\n",
       "      <td>scalp</td>\n",
       "      <td>C:\\Skin Classification\\HAM10000_images\\ISIC_00...</td>\n",
       "      <td>2</td>\n",
       "    </tr>\n",
       "    <tr>\n",
       "      <th>1</th>\n",
       "      <td>HAM_0000118</td>\n",
       "      <td>ISIC_0025030.jpg</td>\n",
       "      <td>bkl</td>\n",
       "      <td>histo</td>\n",
       "      <td>80.0</td>\n",
       "      <td>male</td>\n",
       "      <td>scalp</td>\n",
       "      <td>C:\\Skin Classification\\HAM10000_images\\ISIC_00...</td>\n",
       "      <td>2</td>\n",
       "    </tr>\n",
       "    <tr>\n",
       "      <th>2</th>\n",
       "      <td>HAM_0002730</td>\n",
       "      <td>ISIC_0026769.jpg</td>\n",
       "      <td>bkl</td>\n",
       "      <td>histo</td>\n",
       "      <td>80.0</td>\n",
       "      <td>male</td>\n",
       "      <td>scalp</td>\n",
       "      <td>C:\\Skin Classification\\HAM10000_images\\ISIC_00...</td>\n",
       "      <td>2</td>\n",
       "    </tr>\n",
       "    <tr>\n",
       "      <th>3</th>\n",
       "      <td>HAM_0002730</td>\n",
       "      <td>ISIC_0025661.jpg</td>\n",
       "      <td>bkl</td>\n",
       "      <td>histo</td>\n",
       "      <td>80.0</td>\n",
       "      <td>male</td>\n",
       "      <td>scalp</td>\n",
       "      <td>C:\\Skin Classification\\HAM10000_images\\ISIC_00...</td>\n",
       "      <td>2</td>\n",
       "    </tr>\n",
       "    <tr>\n",
       "      <th>4</th>\n",
       "      <td>HAM_0001466</td>\n",
       "      <td>ISIC_0031633.jpg</td>\n",
       "      <td>bkl</td>\n",
       "      <td>histo</td>\n",
       "      <td>75.0</td>\n",
       "      <td>male</td>\n",
       "      <td>ear</td>\n",
       "      <td>C:\\Skin Classification\\HAM10000_images\\ISIC_00...</td>\n",
       "      <td>2</td>\n",
       "    </tr>\n",
       "    <tr>\n",
       "      <th>...</th>\n",
       "      <td>...</td>\n",
       "      <td>...</td>\n",
       "      <td>...</td>\n",
       "      <td>...</td>\n",
       "      <td>...</td>\n",
       "      <td>...</td>\n",
       "      <td>...</td>\n",
       "      <td>...</td>\n",
       "      <td>...</td>\n",
       "    </tr>\n",
       "    <tr>\n",
       "      <th>10010</th>\n",
       "      <td>HAM_0002867</td>\n",
       "      <td>ISIC_0033084.jpg</td>\n",
       "      <td>akiec</td>\n",
       "      <td>histo</td>\n",
       "      <td>40.0</td>\n",
       "      <td>male</td>\n",
       "      <td>abdomen</td>\n",
       "      <td>C:\\Skin Classification\\HAM10000_images\\ISIC_00...</td>\n",
       "      <td>0</td>\n",
       "    </tr>\n",
       "    <tr>\n",
       "      <th>10011</th>\n",
       "      <td>HAM_0002867</td>\n",
       "      <td>ISIC_0033550.jpg</td>\n",
       "      <td>akiec</td>\n",
       "      <td>histo</td>\n",
       "      <td>40.0</td>\n",
       "      <td>male</td>\n",
       "      <td>abdomen</td>\n",
       "      <td>C:\\Skin Classification\\HAM10000_images\\ISIC_00...</td>\n",
       "      <td>0</td>\n",
       "    </tr>\n",
       "    <tr>\n",
       "      <th>10012</th>\n",
       "      <td>HAM_0002867</td>\n",
       "      <td>ISIC_0033536.jpg</td>\n",
       "      <td>akiec</td>\n",
       "      <td>histo</td>\n",
       "      <td>40.0</td>\n",
       "      <td>male</td>\n",
       "      <td>abdomen</td>\n",
       "      <td>C:\\Skin Classification\\HAM10000_images\\ISIC_00...</td>\n",
       "      <td>0</td>\n",
       "    </tr>\n",
       "    <tr>\n",
       "      <th>10013</th>\n",
       "      <td>HAM_0000239</td>\n",
       "      <td>ISIC_0032854.jpg</td>\n",
       "      <td>akiec</td>\n",
       "      <td>histo</td>\n",
       "      <td>80.0</td>\n",
       "      <td>male</td>\n",
       "      <td>face</td>\n",
       "      <td>C:\\Skin Classification\\HAM10000_images\\ISIC_00...</td>\n",
       "      <td>0</td>\n",
       "    </tr>\n",
       "    <tr>\n",
       "      <th>10014</th>\n",
       "      <td>HAM_0003521</td>\n",
       "      <td>ISIC_0032258.jpg</td>\n",
       "      <td>mel</td>\n",
       "      <td>histo</td>\n",
       "      <td>70.0</td>\n",
       "      <td>female</td>\n",
       "      <td>back</td>\n",
       "      <td>C:\\Skin Classification\\HAM10000_images\\ISIC_00...</td>\n",
       "      <td>4</td>\n",
       "    </tr>\n",
       "  </tbody>\n",
       "</table>\n",
       "<p>10015 rows × 9 columns</p>\n",
       "</div>"
      ],
      "text/plain": [
       "         lesion_id          image_id     dx dx_type   age     sex  \\\n",
       "0      HAM_0000118  ISIC_0027419.jpg    bkl   histo  80.0    male   \n",
       "1      HAM_0000118  ISIC_0025030.jpg    bkl   histo  80.0    male   \n",
       "2      HAM_0002730  ISIC_0026769.jpg    bkl   histo  80.0    male   \n",
       "3      HAM_0002730  ISIC_0025661.jpg    bkl   histo  80.0    male   \n",
       "4      HAM_0001466  ISIC_0031633.jpg    bkl   histo  75.0    male   \n",
       "...            ...               ...    ...     ...   ...     ...   \n",
       "10010  HAM_0002867  ISIC_0033084.jpg  akiec   histo  40.0    male   \n",
       "10011  HAM_0002867  ISIC_0033550.jpg  akiec   histo  40.0    male   \n",
       "10012  HAM_0002867  ISIC_0033536.jpg  akiec   histo  40.0    male   \n",
       "10013  HAM_0000239  ISIC_0032854.jpg  akiec   histo  80.0    male   \n",
       "10014  HAM_0003521  ISIC_0032258.jpg    mel   histo  70.0  female   \n",
       "\n",
       "      localization                                               path  label  \n",
       "0            scalp  C:\\Skin Classification\\HAM10000_images\\ISIC_00...      2  \n",
       "1            scalp  C:\\Skin Classification\\HAM10000_images\\ISIC_00...      2  \n",
       "2            scalp  C:\\Skin Classification\\HAM10000_images\\ISIC_00...      2  \n",
       "3            scalp  C:\\Skin Classification\\HAM10000_images\\ISIC_00...      2  \n",
       "4              ear  C:\\Skin Classification\\HAM10000_images\\ISIC_00...      2  \n",
       "...            ...                                                ...    ...  \n",
       "10010      abdomen  C:\\Skin Classification\\HAM10000_images\\ISIC_00...      0  \n",
       "10011      abdomen  C:\\Skin Classification\\HAM10000_images\\ISIC_00...      0  \n",
       "10012      abdomen  C:\\Skin Classification\\HAM10000_images\\ISIC_00...      0  \n",
       "10013         face  C:\\Skin Classification\\HAM10000_images\\ISIC_00...      0  \n",
       "10014         back  C:\\Skin Classification\\HAM10000_images\\ISIC_00...      4  \n",
       "\n",
       "[10015 rows x 9 columns]"
      ]
     },
     "execution_count": 4,
     "metadata": {},
     "output_type": "execute_result"
    }
   ],
   "source": [
    "df"
   ]
  },
  {
   "cell_type": "code",
   "execution_count": 5,
   "id": "65d77703",
   "metadata": {},
   "outputs": [
    {
     "name": "stdout",
     "output_type": "stream",
     "text": [
      "['bkl' 'nv' 'df' 'mel' 'vasc' 'bcc' 'akiec']\n"
     ]
    }
   ],
   "source": [
    "print(df['dx'].unique())"
   ]
  },
  {
   "cell_type": "code",
   "execution_count": 6,
   "id": "bd7de7b1",
   "metadata": {},
   "outputs": [
    {
     "name": "stdout",
     "output_type": "stream",
     "text": [
      "Found 8012 validated image filenames.\n",
      "Found 2003 validated image filenames.\n"
     ]
    }
   ],
   "source": [
    "# === IMAGE DATA GENERATOR ===\n",
    "train_datagen = ImageDataGenerator(\n",
    "    rescale=1./255,\n",
    "    rotation_range=30,\n",
    "    zoom_range=0.2,\n",
    "    horizontal_flip=True,\n",
    "    vertical_flip=True,\n",
    "    brightness_range=[0.8, 1.2],\n",
    "    shear_range=0.2\n",
    ")\n",
    "\n",
    "val_datagen = ImageDataGenerator(rescale=1./255)\n",
    "\n",
    "train_gen = train_datagen.flow_from_dataframe(\n",
    "    train_df,\n",
    "    x_col='path',\n",
    "    y_col='label',\n",
    "    target_size=(IMG_SIZE, IMG_SIZE),\n",
    "    class_mode='raw',\n",
    "    batch_size=BATCH_SIZE\n",
    ")\n",
    "\n",
    "val_gen = val_datagen.flow_from_dataframe(\n",
    "    val_df,\n",
    "    x_col='path',\n",
    "    y_col='label',\n",
    "    target_size=(IMG_SIZE, IMG_SIZE),\n",
    "    class_mode='raw',\n",
    "    batch_size=BATCH_SIZE\n",
    ")"
   ]
  },
  {
   "cell_type": "code",
   "execution_count": 7,
   "id": "d1f45d7e",
   "metadata": {},
   "outputs": [],
   "source": [
    "# === MODEL ===\n",
    "base_model = ResNet50(weights='imagenet', include_top=False, input_shape=(IMG_SIZE, IMG_SIZE, 3))\n",
    "base_model.trainable = True\n",
    "\n",
    "x = GlobalAveragePooling2D()(base_model.output)\n",
    "x = Dropout(0.5)(x)\n",
    "output = Dense(num_classes, activation='softmax')(x)\n",
    "\n",
    "model = Model(inputs=base_model.input, outputs=output)"
   ]
  },
  {
   "cell_type": "code",
   "execution_count": 8,
   "id": "e29d5ae9",
   "metadata": {},
   "outputs": [],
   "source": [
    "# === CLASS WEIGHTS ===\n",
    "y_train_labels = train_df['label'].values\n",
    "class_weights = class_weight.compute_class_weight('balanced', classes=np.unique(y_train_labels), y=y_train_labels)\n",
    "class_weights_dict = dict(enumerate(class_weights))"
   ]
  },
  {
   "cell_type": "code",
   "execution_count": 9,
   "id": "0a2382d9",
   "metadata": {},
   "outputs": [],
   "source": [
    "# === COMPILE ===\n",
    "model.compile(optimizer=Adam(1e-5), loss='sparse_categorical_crossentropy', metrics=['accuracy'])"
   ]
  },
  {
   "cell_type": "code",
   "execution_count": 12,
   "id": "a3a46fee",
   "metadata": {},
   "outputs": [
    {
     "name": "stdout",
     "output_type": "stream",
     "text": [
      "Epoch 1/30\n",
      "\u001b[1m251/251\u001b[0m \u001b[32m━━━━━━━━━━━━━━━━━━━━\u001b[0m\u001b[37m\u001b[0m \u001b[1m1510s\u001b[0m 6s/step - accuracy: 0.2426 - loss: 2.2584 - val_accuracy: 0.0140 - val_loss: 3.5951\n",
      "Epoch 2/30\n",
      "\u001b[1m251/251\u001b[0m \u001b[32m━━━━━━━━━━━━━━━━━━━━\u001b[0m\u001b[37m\u001b[0m \u001b[1m1574s\u001b[0m 6s/step - accuracy: 0.4415 - loss: 1.5202 - val_accuracy: 0.0175 - val_loss: 2.5879\n",
      "Epoch 3/30\n",
      "\u001b[1m251/251\u001b[0m \u001b[32m━━━━━━━━━━━━━━━━━━━━\u001b[0m\u001b[37m\u001b[0m \u001b[1m1554s\u001b[0m 6s/step - accuracy: 0.5308 - loss: 1.3002 - val_accuracy: 0.1243 - val_loss: 1.9587\n",
      "Epoch 4/30\n",
      "\u001b[1m251/251\u001b[0m \u001b[32m━━━━━━━━━━━━━━━━━━━━\u001b[0m\u001b[37m\u001b[0m \u001b[1m1600s\u001b[0m 6s/step - accuracy: 0.5926 - loss: 1.0627 - val_accuracy: 0.5861 - val_loss: 1.2924\n",
      "Epoch 5/30\n",
      "\u001b[1m251/251\u001b[0m \u001b[32m━━━━━━━━━━━━━━━━━━━━\u001b[0m\u001b[37m\u001b[0m \u001b[1m1565s\u001b[0m 6s/step - accuracy: 0.6331 - loss: 0.8994 - val_accuracy: 0.7000 - val_loss: 0.8503\n",
      "Epoch 6/30\n",
      "\u001b[1m251/251\u001b[0m \u001b[32m━━━━━━━━━━━━━━━━━━━━\u001b[0m\u001b[37m\u001b[0m \u001b[1m1566s\u001b[0m 6s/step - accuracy: 0.6477 - loss: 0.8145 - val_accuracy: 0.7049 - val_loss: 0.7987\n",
      "Epoch 7/30\n",
      "\u001b[1m251/251\u001b[0m \u001b[32m━━━━━━━━━━━━━━━━━━━━\u001b[0m\u001b[37m\u001b[0m \u001b[1m1616s\u001b[0m 6s/step - accuracy: 0.6780 - loss: 0.7490 - val_accuracy: 0.7214 - val_loss: 0.7549\n",
      "Epoch 8/30\n",
      "\u001b[1m251/251\u001b[0m \u001b[32m━━━━━━━━━━━━━━━━━━━━\u001b[0m\u001b[37m\u001b[0m \u001b[1m1590s\u001b[0m 6s/step - accuracy: 0.6779 - loss: 0.7437 - val_accuracy: 0.7239 - val_loss: 0.7425\n",
      "Epoch 9/30\n",
      "\u001b[1m251/251\u001b[0m \u001b[32m━━━━━━━━━━━━━━━━━━━━\u001b[0m\u001b[37m\u001b[0m \u001b[1m1606s\u001b[0m 6s/step - accuracy: 0.6946 - loss: 0.6646 - val_accuracy: 0.7309 - val_loss: 0.7329\n",
      "Epoch 10/30\n",
      "\u001b[1m251/251\u001b[0m \u001b[32m━━━━━━━━━━━━━━━━━━━━\u001b[0m\u001b[37m\u001b[0m \u001b[1m1601s\u001b[0m 6s/step - accuracy: 0.7091 - loss: 0.6029 - val_accuracy: 0.7319 - val_loss: 0.7109\n",
      "Epoch 11/30\n",
      "\u001b[1m251/251\u001b[0m \u001b[32m━━━━━━━━━━━━━━━━━━━━\u001b[0m\u001b[37m\u001b[0m \u001b[1m1554s\u001b[0m 6s/step - accuracy: 0.7094 - loss: 0.5704 - val_accuracy: 0.7434 - val_loss: 0.7041\n",
      "Epoch 12/30\n",
      "\u001b[1m251/251\u001b[0m \u001b[32m━━━━━━━━━━━━━━━━━━━━\u001b[0m\u001b[37m\u001b[0m \u001b[1m1617s\u001b[0m 6s/step - accuracy: 0.7356 - loss: 0.5114 - val_accuracy: 0.7673 - val_loss: 0.6495\n",
      "Epoch 13/30\n",
      "\u001b[1m251/251\u001b[0m \u001b[32m━━━━━━━━━━━━━━━━━━━━\u001b[0m\u001b[37m\u001b[0m \u001b[1m1608s\u001b[0m 6s/step - accuracy: 0.7413 - loss: 0.5374 - val_accuracy: 0.7454 - val_loss: 0.6803\n",
      "Epoch 14/30\n",
      "\u001b[1m251/251\u001b[0m \u001b[32m━━━━━━━━━━━━━━━━━━━━\u001b[0m\u001b[37m\u001b[0m \u001b[1m1617s\u001b[0m 6s/step - accuracy: 0.7418 - loss: 0.5056 - val_accuracy: 0.7673 - val_loss: 0.6271\n",
      "Epoch 15/30\n",
      "\u001b[1m251/251\u001b[0m \u001b[32m━━━━━━━━━━━━━━━━━━━━\u001b[0m\u001b[37m\u001b[0m \u001b[1m1565s\u001b[0m 6s/step - accuracy: 0.7629 - loss: 0.4498 - val_accuracy: 0.7713 - val_loss: 0.6283\n",
      "Epoch 16/30\n",
      "\u001b[1m251/251\u001b[0m \u001b[32m━━━━━━━━━━━━━━━━━━━━\u001b[0m\u001b[37m\u001b[0m \u001b[1m1586s\u001b[0m 6s/step - accuracy: 0.7641 - loss: 0.4474 - val_accuracy: 0.7713 - val_loss: 0.6135\n",
      "Epoch 17/30\n",
      "\u001b[1m251/251\u001b[0m \u001b[32m━━━━━━━━━━━━━━━━━━━━\u001b[0m\u001b[37m\u001b[0m \u001b[1m1561s\u001b[0m 6s/step - accuracy: 0.7804 - loss: 0.4240 - val_accuracy: 0.7763 - val_loss: 0.6480\n",
      "Epoch 18/30\n",
      "\u001b[1m251/251\u001b[0m \u001b[32m━━━━━━━━━━━━━━━━━━━━\u001b[0m\u001b[37m\u001b[0m \u001b[1m1599s\u001b[0m 6s/step - accuracy: 0.7828 - loss: 0.3898 - val_accuracy: 0.7703 - val_loss: 0.6370\n",
      "Epoch 19/30\n",
      "\u001b[1m251/251\u001b[0m \u001b[32m━━━━━━━━━━━━━━━━━━━━\u001b[0m\u001b[37m\u001b[0m \u001b[1m1553s\u001b[0m 6s/step - accuracy: 0.7950 - loss: 0.3523 - val_accuracy: 0.7983 - val_loss: 0.5750\n",
      "Epoch 20/30\n",
      "\u001b[1m251/251\u001b[0m \u001b[32m━━━━━━━━━━━━━━━━━━━━\u001b[0m\u001b[37m\u001b[0m \u001b[1m1614s\u001b[0m 6s/step - accuracy: 0.7925 - loss: 0.3484 - val_accuracy: 0.7943 - val_loss: 0.6202\n",
      "Epoch 21/30\n",
      "\u001b[1m251/251\u001b[0m \u001b[32m━━━━━━━━━━━━━━━━━━━━\u001b[0m\u001b[37m\u001b[0m \u001b[1m1594s\u001b[0m 6s/step - accuracy: 0.8053 - loss: 0.3176 - val_accuracy: 0.7863 - val_loss: 0.6174\n",
      "Epoch 22/30\n",
      "\u001b[1m251/251\u001b[0m \u001b[32m━━━━━━━━━━━━━━━━━━━━\u001b[0m\u001b[37m\u001b[0m \u001b[1m1591s\u001b[0m 6s/step - accuracy: 0.8157 - loss: 0.3034 - val_accuracy: 0.7898 - val_loss: 0.6138\n",
      "Epoch 23/30\n",
      "\u001b[1m251/251\u001b[0m \u001b[32m━━━━━━━━━━━━━━━━━━━━\u001b[0m\u001b[37m\u001b[0m \u001b[1m1600s\u001b[0m 6s/step - accuracy: 0.8215 - loss: 0.2921 - val_accuracy: 0.7813 - val_loss: 0.6497\n",
      "Epoch 24/30\n",
      "\u001b[1m251/251\u001b[0m \u001b[32m━━━━━━━━━━━━━━━━━━━━\u001b[0m\u001b[37m\u001b[0m \u001b[1m1600s\u001b[0m 6s/step - accuracy: 0.8249 - loss: 0.2750 - val_accuracy: 0.7798 - val_loss: 0.6778\n",
      "Epoch 25/30\n",
      "\u001b[1m251/251\u001b[0m \u001b[32m━━━━━━━━━━━━━━━━━━━━\u001b[0m\u001b[37m\u001b[0m \u001b[1m1602s\u001b[0m 6s/step - accuracy: 0.8295 - loss: 0.2780 - val_accuracy: 0.7983 - val_loss: 0.6414\n",
      "Epoch 26/30\n",
      "\u001b[1m251/251\u001b[0m \u001b[32m━━━━━━━━━━━━━━━━━━━━\u001b[0m\u001b[37m\u001b[0m \u001b[1m1512s\u001b[0m 6s/step - accuracy: 0.8350 - loss: 0.2518 - val_accuracy: 0.8008 - val_loss: 0.6041\n",
      "Epoch 27/30\n",
      "\u001b[1m251/251\u001b[0m \u001b[32m━━━━━━━━━━━━━━━━━━━━\u001b[0m\u001b[37m\u001b[0m \u001b[1m1569s\u001b[0m 6s/step - accuracy: 0.8410 - loss: 0.2540 - val_accuracy: 0.7743 - val_loss: 0.7410\n",
      "Epoch 28/30\n",
      "\u001b[1m251/251\u001b[0m \u001b[32m━━━━━━━━━━━━━━━━━━━━\u001b[0m\u001b[37m\u001b[0m \u001b[1m1576s\u001b[0m 6s/step - accuracy: 0.8391 - loss: 0.2632 - val_accuracy: 0.8183 - val_loss: 0.5685\n",
      "Epoch 29/30\n",
      "\u001b[1m251/251\u001b[0m \u001b[32m━━━━━━━━━━━━━━━━━━━━\u001b[0m\u001b[37m\u001b[0m \u001b[1m1579s\u001b[0m 6s/step - accuracy: 0.8474 - loss: 0.2424 - val_accuracy: 0.7808 - val_loss: 0.6460\n",
      "Epoch 30/30\n",
      "\u001b[1m251/251\u001b[0m \u001b[32m━━━━━━━━━━━━━━━━━━━━\u001b[0m\u001b[37m\u001b[0m \u001b[1m1613s\u001b[0m 6s/step - accuracy: 0.8580 - loss: 0.2057 - val_accuracy: 0.7723 - val_loss: 0.7281\n",
      "\u001b[1m63/63\u001b[0m \u001b[32m━━━━━━━━━━━━━━━━━━━━\u001b[0m\u001b[37m\u001b[0m \u001b[1m86s\u001b[0m 1s/step - accuracy: 0.7870 - loss: 0.6844\n",
      "Validation Accuracy: 77.23%\n"
     ]
    }
   ],
   "source": [
    "# === TRAIN ===\n",
    "history = model.fit(\n",
    "    train_gen,\n",
    "    validation_data=val_gen,\n",
    "    epochs=30,\n",
    "    class_weight=class_weights_dict\n",
    ")\n",
    "\n",
    "# === EVALUATE ===\n",
    "val_loss, val_acc = model.evaluate(val_gen)\n",
    "print(f\"Validation Accuracy: {val_acc*100:.2f}%\")"
   ]
  },
  {
   "cell_type": "code",
   "execution_count": 23,
   "id": "8f9a7eb2",
   "metadata": {},
   "outputs": [
    {
     "name": "stdout",
     "output_type": "stream",
     "text": [
      "Final Training Accuracy: 85.37%\n",
      "Final Validation Accuracy: 77.23%\n"
     ]
    }
   ],
   "source": [
    "# === Print Final Training and Validation Accuracy ===\n",
    "final_train_acc = history.history['accuracy'][-1]\n",
    "final_val_acc = history.history['val_accuracy'][-1]\n",
    "\n",
    "print(f\"Final Training Accuracy: {final_train_acc * 100:.2f}%\")\n",
    "print(f\"Final Validation Accuracy: {final_val_acc * 100:.2f}%\")\n"
   ]
  },
  {
   "cell_type": "code",
   "execution_count": 14,
   "id": "09b0bc8c",
   "metadata": {},
   "outputs": [
    {
     "data": {
      "text/plain": [
       "<matplotlib.legend.Legend at 0x2481351bca0>"
      ]
     },
     "execution_count": 14,
     "metadata": {},
     "output_type": "execute_result"
    },
    {
     "data": {
      "image/png": "[encoded data removed]",
      "text/plain": [
       "<Figure size 1200x500 with 1 Axes>"
      ]
     },
     "metadata": {},
     "output_type": "display_data"
    }
   ],
   "source": [
    "import matplotlib.pyplot as plt\n",
    "# === PLOT TRAINING HISTORY ===\n",
    "plt.figure(figsize=(12, 5))\n",
    "\n",
    "# Accuracy plot\n",
    "plt.subplot(1, 2, 1)\n",
    "plt.plot(history.history['accuracy'], label='Train Accuracy')\n",
    "plt.plot(history.history['val_accuracy'], label='Val Accuracy')\n",
    "plt.title('Model Accuracy')\n",
    "plt.xlabel('Epoch')\n",
    "plt.ylabel('Accuracy')\n",
    "plt.legend()"
   ]
  },
  {
   "cell_type": "code",
   "execution_count": 30,
   "id": "7439ef8d",
   "metadata": {},
   "outputs": [
    {
     "data": {
      "image/png": "[encoded data removed]",
      "text/plain": [
       "<Figure size 640x480 with 1 Axes>"
      ]
     },
     "metadata": {},
     "output_type": "display_data"
    }
   ],
   "source": [
    "# Loss plot\n",
    "plt.subplot(1, 2, 2)\n",
    "plt.plot(history.history['loss'], label='Train Loss')\n",
    "plt.plot(history.history['val_loss'], label='Val Loss')\n",
    "plt.title('Model Loss')\n",
    "plt.xlabel('Epoch')\n",
    "plt.ylabel('Loss')\n",
    "plt.legend()\n",
    "\n",
    "plt.tight_layout()\n",
    "plt.show()"
   ]
  },
  {
   "cell_type": "code",
   "execution_count": 18,
   "id": "a4205aa6",
   "metadata": {},
   "outputs": [
    {
     "name": "stdout",
     "output_type": "stream",
     "text": [
      "\u001b[1m63/63\u001b[0m \u001b[32m━━━━━━━━━━━━━━━━━━━━\u001b[0m\u001b[37m\u001b[0m \u001b[1m92s\u001b[0m 1s/step\n",
      "\n",
      "Classification Report:\n",
      "\n",
      "              precision    recall  f1-score   support\n",
      "\n",
      "       akiec       0.11      0.05      0.06        65\n",
      "         bcc       0.02      0.02      0.02       103\n",
      "         bkl       0.12      0.22      0.16       220\n",
      "          df       0.04      0.04      0.04        23\n",
      "         mel       0.13      0.22      0.16       223\n",
      "          nv       0.68      0.54      0.60      1341\n",
      "        vasc       0.00      0.00      0.00        28\n",
      "\n",
      "    accuracy                           0.41      2003\n",
      "   macro avg       0.16      0.15      0.15      2003\n",
      "weighted avg       0.49      0.41      0.44      2003\n",
      "\n"
     ]
    }
   ],
   "source": [
    "from sklearn.metrics import classification_report\n",
    "# === CLASSIFICATION REPORT ===\n",
    "y_true = val_df['label'].values\n",
    "y_pred_probs = model.predict(val_gen)\n",
    "y_pred = np.argmax(y_pred_probs, axis=1)\n",
    "\n",
    "print(\"\\nClassification Report:\\n\")\n",
    "print(classification_report(y_true, y_pred, target_names=le.classes_))"
   ]
  },
  {
   "cell_type": "code",
   "execution_count": 19,
   "id": "4f81e132",
   "metadata": {},
   "outputs": [
    {
     "data": {
      "image/png": "[encoded data removed]",
      "text/plain": [
       "<Figure size 1000x800 with 2 Axes>"
      ]
     },
     "metadata": {},
     "output_type": "display_data"
    }
   ],
   "source": [
    "import seaborn as sns\n",
    "from sklearn.metrics import confusion_matrix\n",
    "# === CONFUSION MATRIX HEATMAP ===\n",
    "conf_matrix = confusion_matrix(y_true, y_pred)\n",
    "plt.figure(figsize=(10, 8))\n",
    "sns.heatmap(conf_matrix, annot=True, fmt='d', cmap='Blues', xticklabels=le.classes_, yticklabels=le.classes_)\n",
    "plt.title('Confusion Matrix Heatmap')\n",
    "plt.xlabel('Predicted Label')\n",
    "plt.ylabel('True Label')\n",
    "plt.tight_layout()\n",
    "plt.show()"
   ]
  },
  {
   "cell_type": "code",
   "execution_count": 20,
   "id": "33df32b3",
   "metadata": {},
   "outputs": [
    {
     "name": "stderr",
     "output_type": "stream",
     "text": [
      "WARNING:absl:You are saving your model as an HDF5 file via `model.save()` or `keras.saving.save_model(model)`. This file format is considered legacy. We recommend using instead the native Keras format, e.g. `model.save('my_model.keras')` or `keras.saving.save_model(model, 'my_model.keras')`. \n"
     ]
    }
   ],
   "source": [
    "MODEL_PATH = \"skinlesionmodel.h5\"\n",
    "model.save(MODEL_PATH)\n"
   ]
  },
  {
   "cell_type": "code",
   "execution_count": 22,
   "id": "0a40c36b",
   "metadata": {},
   "outputs": [
    {
     "name": "stderr",
     "output_type": "stream",
     "text": [
      "WARNING:absl:Compiled the loaded model, but the compiled metrics have yet to be built. `model.compile_metrics` will be empty until you train or evaluate the model.\n"
     ]
    }
   ],
   "source": [
    "from tensorflow.keras.models import load_model\n",
    "model = load_model(\"skinlesionmodel.h5\")"
   ]
  },
  {
   "cell_type": "code",
   "execution_count": 29,
   "id": "c3641587",
   "metadata": {},
   "outputs": [
    {
     "name": "stdout",
     "output_type": "stream",
     "text": [
      "\u001b[1m1/1\u001b[0m \u001b[32m━━━━━━━━━━━━━━━━━━━━\u001b[0m\u001b[37m\u001b[0m \u001b[1m0s\u001b[0m 159ms/step\n",
      "Predicted class: bkl\n"
     ]
    }
   ],
   "source": [
    "from tensorflow.keras.preprocessing import image\n",
    "\n",
    "# Load and preprocess new image\n",
    "img_path = \"C:/Users/Subhasri/OneDrive/Pictures/Screenshots/Screenshot 2025-07-27 041628.png\"\n",
    "img = image.load_img(img_path, target_size=(224, 224))\n",
    "img_array = image.img_to_array(img)\n",
    "img_array = img_array / 255.0  # Normalize\n",
    "img_array = np.expand_dims(img_array, axis=0)  # Add batch dimension\n",
    "\n",
    "# Predict\n",
    "pred = model.predict(img_array)\n",
    "predicted_class = np.argmax(pred)\n",
    "class_name = le.classes_[predicted_class]\n",
    "\n",
    "print(f\"Predicted class: {class_name}\")"
   ]
  },
  {
   "cell_type": "code",
   "execution_count": 25,
   "id": "8d600377",
   "metadata": {},
   "outputs": [
    {
     "name": "stdout",
     "output_type": "stream",
     "text": [
      "Found 501 validated image filenames.\n"
     ]
    }
   ],
   "source": [
    "val_df, test_df = train_test_split(val_df, test_size=0.5, stratify=val_df['label'], random_state=42)\n",
    "test_datagen = ImageDataGenerator(rescale=1./255)\n",
    "\n",
    "test_gen = test_datagen.flow_from_dataframe(\n",
    "    test_df,\n",
    "    x_col='path',\n",
    "    y_col='label',\n",
    "    target_size=(IMG_SIZE, IMG_SIZE),\n",
    "    class_mode='raw',\n",
    "    batch_size=BATCH_SIZE,\n",
    "    shuffle=False\n",
    ")\n",
    "\n"
   ]
  },
  {
   "cell_type": "code",
   "execution_count": 26,
   "id": "98561a9e",
   "metadata": {},
   "outputs": [
    {
     "name": "stderr",
     "output_type": "stream",
     "text": [
      "c:\\Skin Classification\\Skin-lesion\\tf-env\\lib\\site-packages\\keras\\src\\trainers\\data_adapters\\py_dataset_adapter.py:121: UserWarning: Your `PyDataset` class should call `super().__init__(**kwargs)` in its constructor. `**kwargs` can include `workers`, `use_multiprocessing`, `max_queue_size`. Do not pass these arguments to `fit()`, as they will be ignored.\n",
      "  self._warn_if_super_not_called()\n"
     ]
    },
    {
     "name": "stdout",
     "output_type": "stream",
     "text": [
      "\u001b[1m16/16\u001b[0m \u001b[32m━━━━━━━━━━━━━━━━━━━━\u001b[0m\u001b[37m\u001b[0m \u001b[1m19s\u001b[0m 961ms/step - accuracy: 0.7569 - loss: 0.8184\n",
      "\n",
      "Test Accuracy: 76.65%\n"
     ]
    }
   ],
   "source": [
    "test_loss, test_acc = model.evaluate(test_gen)\n",
    "print(f\"\\nTest Accuracy: {test_acc * 100:.2f}%\")\n"
   ]
  },
  {
   "cell_type": "code",
   "execution_count": 2,
   "id": "a5d53a85",
   "metadata": {},
   "outputs": [
    {
     "name": "stdout",
     "output_type": "stream",
     "text": [
      "hello\n"
     ]
    }
   ],
   "source": [
    "print(\"hello\")"
   ]
  },
  {
   "cell_type": "code",
   "execution_count": 3,
   "id": "96cf5d3e",
   "metadata": {},
   "outputs": [
    {
     "name": "stdout",
     "output_type": "stream",
     "text": [
      "Subha\n"
     ]
    }
   ],
   "source": [
    "print(\"Subha\")"
   ]
  }
 ],
 "metadata": {
  "kernelspec": {
   "display_name": "Python (tf-env)",
   "language": "python",
   "name": "tf-env"
  },
  "language_info": {
   "codemirror_mode": {
    "name": "ipython",
    "version": 3
   },
   "file_extension": ".py",
   "mimetype": "text/x-python",
   "name": "python",
   "nbconvert_exporter": "python",
   "pygments_lexer": "ipython3",
   "version": "3.10.9"
  }
 },
 "nbformat": 4,
 "nbformat_minor": 5
}
